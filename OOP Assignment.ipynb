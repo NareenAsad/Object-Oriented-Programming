{
 "cells": [
  {
   "cell_type": "markdown",
   "id": "bbbcdd8a",
   "metadata": {},
   "source": [
    "# CLASSES:"
   ]
  },
  {
   "cell_type": "markdown",
   "id": "bd03bba0",
   "metadata": {},
   "source": [
    "# 1:"
   ]
  },
  {
   "cell_type": "code",
   "execution_count": 100,
   "id": "e23d8250",
   "metadata": {},
   "outputs": [],
   "source": [
    "class cupboard():\n",
    "    def __init__ (self,material,width,length,position,lock):\n",
    "        self.cupboard_mater =material\n",
    "        self.cupboard_wid =width\n",
    "        self.cupboard_len =length\n",
    "        self.cupboard_pos =position\n",
    "        self.cupboard_lock =lock\n",
    "    \n",
    "    def open_(self):\n",
    "        if self.cupboard_pos==0:\n",
    "            self.cupboard_pos=90\n",
    "    \n",
    "    def close_(self):\n",
    "        if self.cupboard_pos==90:\n",
    "            self.cupboard_pos=0\n",
    "    \n",
    "    def locked_(self):\n",
    "        if self.cupboard_lock==0:\n",
    "            self.cupboard_lock=1\n",
    "    \n",
    "    def unlocked_(self):\n",
    "        if self.cupboard_lock==1:\n",
    "            self.cupboard_lock=0"
   ]
  },
  {
   "cell_type": "code",
   "execution_count": 101,
   "id": "6df51e40",
   "metadata": {},
   "outputs": [],
   "source": [
    "cup_1=cupboard(material='glass',width=4,length=8,position=0,lock=0)"
   ]
  },
  {
   "cell_type": "code",
   "execution_count": 102,
   "id": "46ce0088",
   "metadata": {},
   "outputs": [
    {
     "data": {
      "text/plain": [
       "'glass'"
      ]
     },
     "execution_count": 102,
     "metadata": {},
     "output_type": "execute_result"
    }
   ],
   "source": [
    "cup_1.cupboard_mater"
   ]
  },
  {
   "cell_type": "code",
   "execution_count": 103,
   "id": "a46f5d54",
   "metadata": {},
   "outputs": [
    {
     "data": {
      "text/plain": [
       "4"
      ]
     },
     "execution_count": 103,
     "metadata": {},
     "output_type": "execute_result"
    }
   ],
   "source": [
    "cup_1.cupboard_wid"
   ]
  },
  {
   "cell_type": "code",
   "execution_count": 104,
   "id": "ab2b19a7",
   "metadata": {},
   "outputs": [
    {
     "data": {
      "text/plain": [
       "8"
      ]
     },
     "execution_count": 104,
     "metadata": {},
     "output_type": "execute_result"
    }
   ],
   "source": [
    "cup_1.cupboard_len"
   ]
  },
  {
   "cell_type": "code",
   "execution_count": 105,
   "id": "46c342a9",
   "metadata": {},
   "outputs": [
    {
     "data": {
      "text/plain": [
       "0"
      ]
     },
     "execution_count": 105,
     "metadata": {},
     "output_type": "execute_result"
    }
   ],
   "source": [
    "cup_1.cupboard_pos"
   ]
  },
  {
   "cell_type": "code",
   "execution_count": 106,
   "id": "bccb8c1b",
   "metadata": {},
   "outputs": [],
   "source": [
    "cup_1.open_()"
   ]
  },
  {
   "cell_type": "code",
   "execution_count": 107,
   "id": "01be08a3",
   "metadata": {},
   "outputs": [
    {
     "data": {
      "text/plain": [
       "90"
      ]
     },
     "execution_count": 107,
     "metadata": {},
     "output_type": "execute_result"
    }
   ],
   "source": [
    "cup_1.cupboard_pos"
   ]
  },
  {
   "cell_type": "code",
   "execution_count": 108,
   "id": "f7dc6353",
   "metadata": {},
   "outputs": [],
   "source": [
    "cup_1.close_()"
   ]
  },
  {
   "cell_type": "code",
   "execution_count": 109,
   "id": "4551d41b",
   "metadata": {},
   "outputs": [
    {
     "data": {
      "text/plain": [
       "0"
      ]
     },
     "execution_count": 109,
     "metadata": {},
     "output_type": "execute_result"
    }
   ],
   "source": [
    "cup_1.cupboard_lock"
   ]
  },
  {
   "cell_type": "code",
   "execution_count": 110,
   "id": "f47c9728",
   "metadata": {},
   "outputs": [],
   "source": [
    "cup_1.locked_()"
   ]
  },
  {
   "cell_type": "code",
   "execution_count": 111,
   "id": "fa232c28",
   "metadata": {},
   "outputs": [
    {
     "data": {
      "text/plain": [
       "1"
      ]
     },
     "execution_count": 111,
     "metadata": {},
     "output_type": "execute_result"
    }
   ],
   "source": [
    "cup_1.cupboard_lock"
   ]
  },
  {
   "cell_type": "markdown",
   "id": "635f9f0b",
   "metadata": {},
   "source": [
    "# 2:"
   ]
  },
  {
   "cell_type": "code",
   "execution_count": 42,
   "id": "fc4cd7ea",
   "metadata": {},
   "outputs": [],
   "source": [
    "class electric_curtain():\n",
    "    def __init__ (self,material,width,length,colour,switch):\n",
    "        self.electric_curtain_mater =material\n",
    "        self.electric_curtain_wid =width\n",
    "        self.electric_curtain_len =length\n",
    "        self.electric_curtain_col =colour\n",
    "        self.electric_curtain_switch =switch\n",
    "        \n",
    "    def on_(self):\n",
    "        if self.electric_curtain_switch==0:\n",
    "            self.electric_curtain_switch=1\n",
    "    \n",
    "    def off_(self):\n",
    "        if self.electric_curtain_switch==1:\n",
    "            self.electric_curtain_switch=0\n",
    "                "
   ]
  },
  {
   "cell_type": "code",
   "execution_count": 43,
   "id": "217685bc",
   "metadata": {},
   "outputs": [],
   "source": [
    "curtain=electric_curtain(material='silk',width=12,length=20,colour='gold',switch=0)"
   ]
  },
  {
   "cell_type": "code",
   "execution_count": 44,
   "id": "fecae688",
   "metadata": {},
   "outputs": [
    {
     "data": {
      "text/plain": [
       "'silk'"
      ]
     },
     "execution_count": 44,
     "metadata": {},
     "output_type": "execute_result"
    }
   ],
   "source": [
    "curtain.electric_curtain_mater"
   ]
  },
  {
   "cell_type": "code",
   "execution_count": 45,
   "id": "c0b11098",
   "metadata": {},
   "outputs": [
    {
     "data": {
      "text/plain": [
       "12"
      ]
     },
     "execution_count": 45,
     "metadata": {},
     "output_type": "execute_result"
    }
   ],
   "source": [
    "curtain.electric_curtain_wid"
   ]
  },
  {
   "cell_type": "code",
   "execution_count": 46,
   "id": "d743594b",
   "metadata": {},
   "outputs": [
    {
     "data": {
      "text/plain": [
       "20"
      ]
     },
     "execution_count": 46,
     "metadata": {},
     "output_type": "execute_result"
    }
   ],
   "source": [
    "curtain.electric_curtain_len"
   ]
  },
  {
   "cell_type": "code",
   "execution_count": 47,
   "id": "700052e0",
   "metadata": {},
   "outputs": [
    {
     "data": {
      "text/plain": [
       "'gold'"
      ]
     },
     "execution_count": 47,
     "metadata": {},
     "output_type": "execute_result"
    }
   ],
   "source": [
    "curtain.electric_curtain_col"
   ]
  },
  {
   "cell_type": "code",
   "execution_count": 48,
   "id": "d52f9644",
   "metadata": {},
   "outputs": [
    {
     "data": {
      "text/plain": [
       "0"
      ]
     },
     "execution_count": 48,
     "metadata": {},
     "output_type": "execute_result"
    }
   ],
   "source": [
    "curtain.electric_curtain_switch"
   ]
  },
  {
   "cell_type": "code",
   "execution_count": 49,
   "id": "90519af1",
   "metadata": {},
   "outputs": [],
   "source": [
    "curtain.on_()"
   ]
  },
  {
   "cell_type": "code",
   "execution_count": 50,
   "id": "40357632",
   "metadata": {},
   "outputs": [
    {
     "data": {
      "text/plain": [
       "1"
      ]
     },
     "execution_count": 50,
     "metadata": {},
     "output_type": "execute_result"
    }
   ],
   "source": [
    "curtain.electric_curtain_switch"
   ]
  },
  {
   "cell_type": "code",
   "execution_count": 51,
   "id": "9a7252f9",
   "metadata": {},
   "outputs": [],
   "source": [
    "curtain.off_()"
   ]
  },
  {
   "cell_type": "markdown",
   "id": "7619560d",
   "metadata": {},
   "source": [
    "# 3:"
   ]
  },
  {
   "cell_type": "code",
   "execution_count": 3,
   "id": "7f737be6",
   "metadata": {},
   "outputs": [
    {
     "name": "stdout",
     "output_type": "stream",
     "text": [
      "Nareen\n",
      "19\n"
     ]
    }
   ],
   "source": [
    "class Person:\n",
    "    def __init__(self,name,age):\n",
    "        self.name = name\n",
    "        self.age = age\n",
    "p1 =Person(\"Nareen\",19)\n",
    "print(p1.name)\n",
    "print(p1.age)"
   ]
  },
  {
   "cell_type": "markdown",
   "id": "79c16a83",
   "metadata": {},
   "source": [
    "# 4:"
   ]
  },
  {
   "cell_type": "code",
   "execution_count": 74,
   "id": "c52a4367",
   "metadata": {},
   "outputs": [],
   "source": [
    "class Car():\n",
    "    def __init__ (self,year,material,model,speed,colour,engine):\n",
    "        self.car_year=year\n",
    "        self.car_mater=material\n",
    "        self.car_model=model\n",
    "        self.car_col=colour\n",
    "        self.car_speed=speed\n",
    "        self.car_engine=engine\n",
    "        \n",
    "    def engine_on(self):\n",
    "        if self.car_engine==0:\n",
    "            self.car_engine=1\n",
    "            \n",
    "    def engine_off(self):\n",
    "        if self.car_engine==1:\n",
    "            self.car_engine=0\n",
    "            \n",
    "    def speed_(self):\n",
    "        if self.car_speed==140:\n",
    "            self.car_speed=0\n",
    "            \n",
    "    def speed_1(self):\n",
    "        if self.car_speed==0:\n",
    "            self.car_speed=140"
   ]
  },
  {
   "cell_type": "code",
   "execution_count": 75,
   "id": "a630ecc0",
   "metadata": {},
   "outputs": [],
   "source": [
    "car_2=Car(year=2022,material='steel',model='city',colour='gold',engine=0,speed=140)"
   ]
  },
  {
   "cell_type": "code",
   "execution_count": 76,
   "id": "5159d1e9",
   "metadata": {},
   "outputs": [
    {
     "data": {
      "text/plain": [
       "'steel'"
      ]
     },
     "execution_count": 76,
     "metadata": {},
     "output_type": "execute_result"
    }
   ],
   "source": [
    "car_2.car_mater"
   ]
  },
  {
   "cell_type": "code",
   "execution_count": 77,
   "id": "dac30db9",
   "metadata": {},
   "outputs": [
    {
     "data": {
      "text/plain": [
       "2022"
      ]
     },
     "execution_count": 77,
     "metadata": {},
     "output_type": "execute_result"
    }
   ],
   "source": [
    "car_2.car_year"
   ]
  },
  {
   "cell_type": "code",
   "execution_count": 78,
   "id": "b62f9db8",
   "metadata": {},
   "outputs": [
    {
     "data": {
      "text/plain": [
       "'city'"
      ]
     },
     "execution_count": 78,
     "metadata": {},
     "output_type": "execute_result"
    }
   ],
   "source": [
    "car_2.car_model"
   ]
  },
  {
   "cell_type": "code",
   "execution_count": 79,
   "id": "d544249e",
   "metadata": {},
   "outputs": [
    {
     "data": {
      "text/plain": [
       "'gold'"
      ]
     },
     "execution_count": 79,
     "metadata": {},
     "output_type": "execute_result"
    }
   ],
   "source": [
    "car_2.car_col"
   ]
  },
  {
   "cell_type": "code",
   "execution_count": 80,
   "id": "ff9ddd05",
   "metadata": {},
   "outputs": [
    {
     "data": {
      "text/plain": [
       "0"
      ]
     },
     "execution_count": 80,
     "metadata": {},
     "output_type": "execute_result"
    }
   ],
   "source": [
    "car_2.car_engine"
   ]
  },
  {
   "cell_type": "code",
   "execution_count": 81,
   "id": "57991095",
   "metadata": {},
   "outputs": [],
   "source": [
    "car_2.engine_on()"
   ]
  },
  {
   "cell_type": "code",
   "execution_count": 82,
   "id": "dc446b22",
   "metadata": {},
   "outputs": [
    {
     "data": {
      "text/plain": [
       "1"
      ]
     },
     "execution_count": 82,
     "metadata": {},
     "output_type": "execute_result"
    }
   ],
   "source": [
    "car_2.car_engine"
   ]
  },
  {
   "cell_type": "code",
   "execution_count": 83,
   "id": "566e02cf",
   "metadata": {},
   "outputs": [],
   "source": [
    "car_2.engine_off()"
   ]
  },
  {
   "cell_type": "code",
   "execution_count": 84,
   "id": "14343601",
   "metadata": {},
   "outputs": [],
   "source": [
    "car_2.speed_1()"
   ]
  },
  {
   "cell_type": "code",
   "execution_count": 85,
   "id": "b51e3c35",
   "metadata": {},
   "outputs": [
    {
     "data": {
      "text/plain": [
       "140"
      ]
     },
     "execution_count": 85,
     "metadata": {},
     "output_type": "execute_result"
    }
   ],
   "source": [
    "car_2.car_speed"
   ]
  },
  {
   "cell_type": "code",
   "execution_count": 86,
   "id": "0fcacb41",
   "metadata": {},
   "outputs": [],
   "source": [
    "car_2.speed_()"
   ]
  },
  {
   "cell_type": "code",
   "execution_count": 87,
   "id": "6a7d65ff",
   "metadata": {},
   "outputs": [
    {
     "data": {
      "text/plain": [
       "0"
      ]
     },
     "execution_count": 87,
     "metadata": {},
     "output_type": "execute_result"
    }
   ],
   "source": [
    "car_2.car_speed"
   ]
  },
  {
   "cell_type": "markdown",
   "id": "3bb9c645",
   "metadata": {},
   "source": [
    "# 5:"
   ]
  },
  {
   "cell_type": "code",
   "execution_count": 198,
   "id": "6d777f7b",
   "metadata": {},
   "outputs": [],
   "source": [
    "class Dog():\n",
    "    def __init__ (self,family,name,age,colour,bark,appetite):\n",
    "        self.dog_family=family\n",
    "        self.dog_name=name\n",
    "        self.dog_age=age\n",
    "        self.dog_col=colour\n",
    "        self.dog_bark=bark\n",
    "        self.dog_appetite=appetite\n",
    "        \n",
    "    def start_bark(self):\n",
    "        if self.dog_bark==0:\n",
    "            self.dog_bark='Woof'\n",
    "            \n",
    "    def stop_bark(self):\n",
    "        if self.dog_bark=='Woof':\n",
    "            self.dog_bark=0\n",
    "        \n",
    "    def start_appetite(self):\n",
    "        if self.dog_appetite==0:\n",
    "            self.dog_appetite=\"yum yum yum\"\n",
    "            \n",
    "    def stop_appetite(self):\n",
    "        if self.dog_appetite==\"yum yum yum\":\n",
    "            self.dog_appetite=0"
   ]
  },
  {
   "cell_type": "code",
   "execution_count": 199,
   "id": "e5b2ca8b",
   "metadata": {},
   "outputs": [],
   "source": [
    "dog_1=Dog(family=\"Husky\",name=\"Snowfi\",age=5,colour=\"White and Black\",bark=0,appetite=0)"
   ]
  },
  {
   "cell_type": "code",
   "execution_count": 200,
   "id": "302d4657",
   "metadata": {},
   "outputs": [
    {
     "data": {
      "text/plain": [
       "'Husky'"
      ]
     },
     "execution_count": 200,
     "metadata": {},
     "output_type": "execute_result"
    }
   ],
   "source": [
    "dog_1.dog_family"
   ]
  },
  {
   "cell_type": "code",
   "execution_count": 201,
   "id": "c8b08b14",
   "metadata": {},
   "outputs": [
    {
     "data": {
      "text/plain": [
       "'Snowfi'"
      ]
     },
     "execution_count": 201,
     "metadata": {},
     "output_type": "execute_result"
    }
   ],
   "source": [
    "dog_1.dog_name"
   ]
  },
  {
   "cell_type": "code",
   "execution_count": 202,
   "id": "cbac91a7",
   "metadata": {},
   "outputs": [
    {
     "data": {
      "text/plain": [
       "5"
      ]
     },
     "execution_count": 202,
     "metadata": {},
     "output_type": "execute_result"
    }
   ],
   "source": [
    "dog_1.dog_age"
   ]
  },
  {
   "cell_type": "code",
   "execution_count": 203,
   "id": "1330ec1b",
   "metadata": {},
   "outputs": [
    {
     "data": {
      "text/plain": [
       "'White and Black'"
      ]
     },
     "execution_count": 203,
     "metadata": {},
     "output_type": "execute_result"
    }
   ],
   "source": [
    "dog_1.dog_col"
   ]
  },
  {
   "cell_type": "code",
   "execution_count": 204,
   "id": "5434f3de",
   "metadata": {},
   "outputs": [
    {
     "data": {
      "text/plain": [
       "0"
      ]
     },
     "execution_count": 204,
     "metadata": {},
     "output_type": "execute_result"
    }
   ],
   "source": [
    "dog_1.dog_bark"
   ]
  },
  {
   "cell_type": "code",
   "execution_count": 205,
   "id": "c78546c1",
   "metadata": {},
   "outputs": [],
   "source": [
    "dog_1.start_bark()"
   ]
  },
  {
   "cell_type": "code",
   "execution_count": 206,
   "id": "83e21996",
   "metadata": {},
   "outputs": [
    {
     "data": {
      "text/plain": [
       "'Woof'"
      ]
     },
     "execution_count": 206,
     "metadata": {},
     "output_type": "execute_result"
    }
   ],
   "source": [
    "dog_1.dog_bark"
   ]
  },
  {
   "cell_type": "code",
   "execution_count": 207,
   "id": "90195089",
   "metadata": {},
   "outputs": [],
   "source": [
    "dog_1.stop_bark()"
   ]
  },
  {
   "cell_type": "code",
   "execution_count": 208,
   "id": "5b8d642f",
   "metadata": {},
   "outputs": [
    {
     "data": {
      "text/plain": [
       "0"
      ]
     },
     "execution_count": 208,
     "metadata": {},
     "output_type": "execute_result"
    }
   ],
   "source": [
    "dog_1.dog_appetite"
   ]
  },
  {
   "cell_type": "code",
   "execution_count": 209,
   "id": "c7cdf31c",
   "metadata": {},
   "outputs": [],
   "source": [
    "dog_1.start_appetite()"
   ]
  },
  {
   "cell_type": "code",
   "execution_count": 210,
   "id": "b53f670f",
   "metadata": {},
   "outputs": [
    {
     "data": {
      "text/plain": [
       "'yum yum yum'"
      ]
     },
     "execution_count": 210,
     "metadata": {},
     "output_type": "execute_result"
    }
   ],
   "source": [
    "dog_1.dog_appetite"
   ]
  },
  {
   "cell_type": "markdown",
   "id": "aa0da439",
   "metadata": {},
   "source": [
    "# Multi-level inheritance "
   ]
  },
  {
   "cell_type": "code",
   "execution_count": 16,
   "id": "5bb7edb3",
   "metadata": {},
   "outputs": [],
   "source": [
    "import time"
   ]
  },
  {
   "cell_type": "code",
   "execution_count": 17,
   "id": "661b129a",
   "metadata": {},
   "outputs": [],
   "source": [
    "class Cake():\n",
    "    def __init__ (self,flour,egg,sugar,milk,bakingsoda):\n",
    "        self.flour=flour\n",
    "        self.egg=egg\n",
    "        self.sugar=sugar\n",
    "        self.milk=milk\n",
    "        self.bakingsoda=bakingsoda\n",
    "        self.temperature=25\n",
    "        self.is_baked=False\n",
    "        self.egg_beaten=False\n",
    "        self.mix=False\n",
    "        \n",
    "        \n",
    "    def egg_beated(self):\n",
    "        if self.egg_beaten==False:\n",
    "            for i in range(5):\n",
    "                print(\"beating\")\n",
    "                time.sleep(1)\n",
    "            self.egg_beaten=True\n",
    "            print(\"Egg are beaten\")\n",
    "        else:\n",
    "            print(\"Egg are already beaten\")\n",
    "            \n",
    "    def mixed(self):\n",
    "        if self.mix==False and self.egg_beaten==True:\n",
    "            self.mix=True\n",
    "            print(\"Ingredients are mixed\")\n",
    "        else:\n",
    "            print(\"Already mixed\")\n",
    "        \n",
    "    def is_bake(self):\n",
    "        if self.mix==True:\n",
    "            while self.temperature<250:\n",
    "                self.temperature=self.temperature + 25\n",
    "                print(self.temperature)\n",
    "                time.sleep(1)\n",
    "            print(\"Cake is baked\",self.temperature)"
   ]
  },
  {
   "cell_type": "code",
   "execution_count": 18,
   "id": "ccd1d9e8",
   "metadata": {},
   "outputs": [],
   "source": [
    "kake=Cake('1 bowl',6,'1 bowl','2 cups','1 tsp')"
   ]
  },
  {
   "cell_type": "code",
   "execution_count": 19,
   "id": "e64aea0d",
   "metadata": {},
   "outputs": [
    {
     "name": "stdout",
     "output_type": "stream",
     "text": [
      "beating\n",
      "beating\n",
      "beating\n",
      "beating\n",
      "beating\n",
      "Egg are beaten\n"
     ]
    }
   ],
   "source": [
    "kake.egg_beated()"
   ]
  },
  {
   "cell_type": "code",
   "execution_count": 20,
   "id": "cb41b5f7",
   "metadata": {},
   "outputs": [
    {
     "name": "stdout",
     "output_type": "stream",
     "text": [
      "Ingredients are mixed\n"
     ]
    }
   ],
   "source": [
    "kake.mixed()"
   ]
  },
  {
   "cell_type": "code",
   "execution_count": 21,
   "id": "2e4465ae",
   "metadata": {},
   "outputs": [
    {
     "name": "stdout",
     "output_type": "stream",
     "text": [
      "50\n",
      "75\n",
      "100\n",
      "125\n",
      "150\n",
      "175\n",
      "200\n",
      "225\n",
      "250\n",
      "Cake is baked 250\n"
     ]
    }
   ],
   "source": [
    "kake.is_bake()"
   ]
  },
  {
   "cell_type": "code",
   "execution_count": 22,
   "id": "ca51126e",
   "metadata": {},
   "outputs": [],
   "source": [
    "class CreamCake(Cake):\n",
    "    def __init__ (self,flour,egg,sugar,milk,bakingsoda):\n",
    "        super().__init__(flour,egg,sugar,milk,bakingsoda)\n",
    "        self.cream=False\n",
    "        self.cream_temp=25\n",
    "        \n",
    "    def add_cream(self):\n",
    "        if self.cream==False:\n",
    "            for i in range(5):\n",
    "                print(\"adding\")\n",
    "                time.sleep(1)\n",
    "            print(\"Cream is added\")\n",
    "            self.cream=True\n",
    "        else:\n",
    "            print(\"Cream is already added\")\n",
    "            \n",
    "    def refrigrate(self):\n",
    "        if self.cream==True:\n",
    "            while self.cream_temp>0:\n",
    "                self.cream_temp=self.cream_temp - 5\n",
    "                print(self.cream_temp)\n",
    "                time.sleep(1)\n",
    "            print(\"Cream is whipped at\",self.cream_temp)    "
   ]
  },
  {
   "cell_type": "code",
   "execution_count": 23,
   "id": "42476300",
   "metadata": {},
   "outputs": [],
   "source": [
    "kake_1=CreamCake('2 bowl',4,'1.5 cups','2 tsp','1 bowl')"
   ]
  },
  {
   "cell_type": "code",
   "execution_count": 24,
   "id": "9289cb32",
   "metadata": {},
   "outputs": [
    {
     "name": "stdout",
     "output_type": "stream",
     "text": [
      "adding\n",
      "adding\n",
      "adding\n",
      "adding\n",
      "adding\n",
      "Cream is added\n"
     ]
    }
   ],
   "source": [
    "kake_1.add_cream()"
   ]
  },
  {
   "cell_type": "code",
   "execution_count": 25,
   "id": "bbe80c6b",
   "metadata": {},
   "outputs": [
    {
     "name": "stdout",
     "output_type": "stream",
     "text": [
      "20\n",
      "15\n",
      "10\n",
      "5\n",
      "0\n",
      "Cream is whipped at 0\n"
     ]
    }
   ],
   "source": [
    "kake_1.refrigrate()"
   ]
  },
  {
   "cell_type": "code",
   "execution_count": 26,
   "id": "b7bef20f",
   "metadata": {},
   "outputs": [],
   "source": [
    "class CherryCreamCake(CreamCake):\n",
    "    def __init__(self,flour,egg,sugar,milk,bakingsoda):\n",
    "        super().__init__(flour,egg,sugar,milk,bakingsoda)\n",
    "        self.cherry=0\n",
    "        \n",
    "    def add_cherry(self):\n",
    "        if self.cherry==0:\n",
    "            while self.cherry<10:\n",
    "                self.cherry=self.cherry + 2\n",
    "                print(self.cherry)\n",
    "                time.sleep(1)\n",
    "            print(\"Cherry is added\")\n",
    "        else:\n",
    "            print(\"Already added\")"
   ]
  },
  {
   "cell_type": "code",
   "execution_count": 27,
   "id": "59e46c37",
   "metadata": {},
   "outputs": [],
   "source": [
    "kake_2=CherryCreamCake('3 bowl',6,'1 bowl','2 cups','2.5 tsp')"
   ]
  },
  {
   "cell_type": "code",
   "execution_count": 28,
   "id": "167c5eee",
   "metadata": {},
   "outputs": [
    {
     "name": "stdout",
     "output_type": "stream",
     "text": [
      "2\n",
      "4\n",
      "6\n",
      "8\n",
      "10\n",
      "Cherry is added\n"
     ]
    }
   ],
   "source": [
    "kake_2.add_cherry()"
   ]
  },
  {
   "cell_type": "code",
   "execution_count": 29,
   "id": "fb58091f",
   "metadata": {},
   "outputs": [],
   "source": [
    "class ChocolateCherryCreamCake(CherryCreamCake):\n",
    "    def __init__(self,flour,egg,sugar,milk,bakingsoda):\n",
    "        super().__init__(flour,egg,sugar,milk,bakingsoda)\n",
    "        self.chocolate=0\n",
    "        \n",
    "    def add_chocolate(self):\n",
    "        if self.chocolate==0:\n",
    "            while self.chocolate<10:\n",
    "                self.chocolate=self.chocolate + 2\n",
    "                print(self.chocolate)\n",
    "                time.sleep(1)\n",
    "            print(\"Chocolate is added\")\n",
    "        else:\n",
    "            print(\"Already added\")"
   ]
  },
  {
   "cell_type": "code",
   "execution_count": 30,
   "id": "bfe11233",
   "metadata": {},
   "outputs": [],
   "source": [
    "kake_3=ChocolateCherryCreamCake('3 bowl',6,'1 bowl','2 cups','2.5 tsp')"
   ]
  },
  {
   "cell_type": "code",
   "execution_count": 31,
   "id": "538c2428",
   "metadata": {},
   "outputs": [
    {
     "name": "stdout",
     "output_type": "stream",
     "text": [
      "2\n",
      "4\n",
      "6\n",
      "8\n",
      "10\n",
      "Chocolate is added\n"
     ]
    }
   ],
   "source": [
    "kake_3.add_chocolate()"
   ]
  },
  {
   "cell_type": "markdown",
   "id": "8c482bfb",
   "metadata": {},
   "source": [
    "# Hierarchical Inheritance"
   ]
  },
  {
   "cell_type": "markdown",
   "id": "1c03abea",
   "metadata": {},
   "source": [
    "Animal - > Herbivorous -> Cow -> SahiwalCow"
   ]
  },
  {
   "cell_type": "code",
   "execution_count": 1,
   "id": "46251d31",
   "metadata": {},
   "outputs": [],
   "source": [
    "class Animal():\n",
    "    def __init__(self,nutrition,habitant,position,colour,digestion):\n",
    "        self.nutrition=nutrition\n",
    "        self.habitant=habitant\n",
    "        self.position=position\n",
    "        self.colour=colour\n",
    "        self.digestion=digestion\n",
    "        \n",
    "    def sleep(self):\n",
    "        if self.position !=0:\n",
    "            self.position=0\n",
    "            \n",
    "    def awake(self):\n",
    "        if self.position==0:\n",
    "            self.position=1\n",
    "    "
   ]
  },
  {
   "cell_type": "code",
   "execution_count": 2,
   "id": "84e2ad23",
   "metadata": {},
   "outputs": [],
   "source": [
    "class Herbivorous(Animal):\n",
    "    def __init__(self,nutrition,habitant,position,colour,digestion,grazing):\n",
    "        super().__init__(nutrition,habitant,position,colour,digestion)\n",
    "        self.grazing=grazing\n",
    "        \n",
    "    def consumed_food(self):\n",
    "        if self.digestion !=True:\n",
    "            self.digestion=True"
   ]
  },
  {
   "cell_type": "code",
   "execution_count": 3,
   "id": "ce5edc08",
   "metadata": {},
   "outputs": [],
   "source": [
    "class Cow(Herbivorous):\n",
    "    def __init__(self,nutrition,habitant,position,colour,digestion,grazing,milk_capacity,strong_sense,horns):\n",
    "        super().__init__(nutrition,habitant,position,colour,digestion,grazing)\n",
    "        self.milk_capacity=milk_capacity\n",
    "        self.strong_sense=strong_sense\n",
    "        self.horns=horns\n",
    "        \n",
    "    def walking(self):\n",
    "        if self.position !=1:\n",
    "            self.position=1\n",
    "            \n",
    "    def eating(self):\n",
    "        if self.grazing !=True:\n",
    "            self.grazing=True"
   ]
  },
  {
   "cell_type": "code",
   "execution_count": 4,
   "id": "1b1b96f9",
   "metadata": {},
   "outputs": [],
   "source": [
    "class SahiwalCow(Cow):\n",
    "    def __init__(self,nutrition,habitant,position,colour,digestion,grazing,milk_capacity,strong_sense,horns,modification):\n",
    "        super().__init__(nutrition,habitant,position,colour,digestion,grazing,milk_capacity,strong_sense,horns)\n",
    "        self.modification=modification\n",
    "        \n",
    "    def water_storage(self):\n",
    "        return self.modification\n",
    "    def milking(self):\n",
    "        return self.milk_capacity"
   ]
  },
  {
   "cell_type": "code",
   "execution_count": 5,
   "id": "ee7e3891",
   "metadata": {},
   "outputs": [],
   "source": [
    "cow=SahiwalCow('grass','farms',0,'brown','eating',False,'great capacity',False,'2 horns','hump')"
   ]
  },
  {
   "cell_type": "code",
   "execution_count": 6,
   "id": "a7b7ad76",
   "metadata": {},
   "outputs": [],
   "source": [
    "cow.sleep()"
   ]
  },
  {
   "cell_type": "code",
   "execution_count": 7,
   "id": "ad2d3d62",
   "metadata": {},
   "outputs": [
    {
     "data": {
      "text/plain": [
       "0"
      ]
     },
     "execution_count": 7,
     "metadata": {},
     "output_type": "execute_result"
    }
   ],
   "source": [
    "cow.position"
   ]
  },
  {
   "cell_type": "code",
   "execution_count": 80,
   "id": "17c30fc0",
   "metadata": {},
   "outputs": [],
   "source": [
    "cow.awake()"
   ]
  },
  {
   "cell_type": "code",
   "execution_count": 81,
   "id": "63e214f1",
   "metadata": {},
   "outputs": [
    {
     "data": {
      "text/plain": [
       "1"
      ]
     },
     "execution_count": 81,
     "metadata": {},
     "output_type": "execute_result"
    }
   ],
   "source": [
    "cow.position"
   ]
  },
  {
   "cell_type": "code",
   "execution_count": 82,
   "id": "94ff8879",
   "metadata": {},
   "outputs": [],
   "source": [
    "cow.consumed_food()"
   ]
  },
  {
   "cell_type": "code",
   "execution_count": 83,
   "id": "719ade3b",
   "metadata": {},
   "outputs": [
    {
     "data": {
      "text/plain": [
       "True"
      ]
     },
     "execution_count": 83,
     "metadata": {},
     "output_type": "execute_result"
    }
   ],
   "source": [
    "cow.digestion"
   ]
  },
  {
   "cell_type": "code",
   "execution_count": 74,
   "id": "b4999cdc",
   "metadata": {},
   "outputs": [
    {
     "data": {
      "text/plain": [
       "'great capacity'"
      ]
     },
     "execution_count": 74,
     "metadata": {},
     "output_type": "execute_result"
    }
   ],
   "source": [
    "cow.milking()"
   ]
  },
  {
   "cell_type": "code",
   "execution_count": 75,
   "id": "47d7335c",
   "metadata": {},
   "outputs": [
    {
     "data": {
      "text/plain": [
       "'hump'"
      ]
     },
     "execution_count": 75,
     "metadata": {},
     "output_type": "execute_result"
    }
   ],
   "source": [
    "cow.water_storage()"
   ]
  },
  {
   "cell_type": "markdown",
   "id": "38af680d",
   "metadata": {},
   "source": [
    "Animal -> Carnivorous -> Shark -> BlueShark"
   ]
  },
  {
   "cell_type": "code",
   "execution_count": 32,
   "id": "f920367a",
   "metadata": {},
   "outputs": [],
   "source": [
    "class Carnivorous(Animal):\n",
    "    def __init__(self,nutrition,habitant,position,colour,digestion,hunting,vision):\n",
    "        super().__init__(nutrition,habitant,position,colour,digestion)\n",
    "        self.hunting=hunting\n",
    "        self.vision=vision\n",
    "        \n",
    "    def predation(self):\n",
    "        if self.hunting!=True:\n",
    "            self.hunting=True\n",
    "            \n",
    "    def night_vision(self):\n",
    "        if self.vision!='glowing red':\n",
    "            self.vision='glowing red'"
   ]
  },
  {
   "cell_type": "code",
   "execution_count": 33,
   "id": "4791bfdf",
   "metadata": {},
   "outputs": [],
   "source": [
    "class Shark(Carnivorous):\n",
    "    def __init__(self,nutrition,habitant,position,colour,digestion,hunting,vision,gills,fins_tail):\n",
    "        super().__init__(nutrition,habitant,position,colour,digestion,hunting,vision)\n",
    "        self.gills=gills\n",
    "        self.fins_tail=fins_tail\n",
    "        \n",
    "    def swim(self):\n",
    "        if self.fins_tail !='moving':\n",
    "            self.fins_tail='moving'\n",
    "            \n",
    "    def breathing(self):\n",
    "        if self.gills !=True:\n",
    "            self.gills=True"
   ]
  },
  {
   "cell_type": "code",
   "execution_count": 34,
   "id": "79b157c9",
   "metadata": {},
   "outputs": [],
   "source": [
    "class BlueShark(Shark):\n",
    "    def __init__(self,nutrition,habitant,position,colour,digestion,hunting,vision,gills,fins_tail,location):\n",
    "        super().__init__(nutrition,habitant,position,colour,digestion,hunting,vision,gills,fins_tail)\n",
    "        self.location=location\n",
    "        \n",
    "    def migration(self):\n",
    "        if self.location!='changed':\n",
    "            self.location='changed'"
   ]
  },
  {
   "cell_type": "code",
   "execution_count": 35,
   "id": "9260ba17",
   "metadata": {},
   "outputs": [],
   "source": [
    "shark=BlueShark('small fish','ocean',0,'blue and white','no excretion',False,'not glowing',False,'not moving','unchanged')"
   ]
  },
  {
   "cell_type": "code",
   "execution_count": 36,
   "id": "0a09b793",
   "metadata": {},
   "outputs": [],
   "source": [
    "shark.breathing()"
   ]
  },
  {
   "cell_type": "code",
   "execution_count": 37,
   "id": "45153873",
   "metadata": {},
   "outputs": [
    {
     "data": {
      "text/plain": [
       "True"
      ]
     },
     "execution_count": 37,
     "metadata": {},
     "output_type": "execute_result"
    }
   ],
   "source": [
    "shark.gills"
   ]
  },
  {
   "cell_type": "code",
   "execution_count": 38,
   "id": "d8520570",
   "metadata": {},
   "outputs": [],
   "source": [
    "shark.migration()"
   ]
  },
  {
   "cell_type": "code",
   "execution_count": 39,
   "id": "0656a038",
   "metadata": {},
   "outputs": [
    {
     "data": {
      "text/plain": [
       "'changed'"
      ]
     },
     "execution_count": 39,
     "metadata": {},
     "output_type": "execute_result"
    }
   ],
   "source": [
    "shark.location"
   ]
  },
  {
   "cell_type": "markdown",
   "id": "9ec3de9a",
   "metadata": {},
   "source": [
    "# Mulitiple Inheritance "
   ]
  },
  {
   "cell_type": "code",
   "execution_count": 1,
   "id": "21ab1f9a",
   "metadata": {},
   "outputs": [],
   "source": [
    "class Animal():\n",
    "    def __init__(self,nutrition,habitant,position,colour,digestion):\n",
    "        self.nutrition=nutrition\n",
    "        self.habitant=habitant\n",
    "        self.position=position\n",
    "        self.colour=colour\n",
    "        self.digestion=digestion\n",
    "        \n",
    "    def eat(self):\n",
    "        return \" animal eats \"\n",
    "    \n",
    "    def drink(self, d):\n",
    "        return \"animal is drinking \"+d"
   ]
  },
  {
   "cell_type": "code",
   "execution_count": 2,
   "id": "b00b7a39",
   "metadata": {},
   "outputs": [],
   "source": [
    "class Herbivorous(Animal):\n",
    "    def __init__(self,nutrition,habitant,position,colour,digestion,grazing):\n",
    "        Animal.__init__(self,nutrition,habitant,position,colour,digestion)\n",
    "        self.grazing=grazing\n",
    "    \n",
    "    def eat(self):\n",
    "        return \" grass \""
   ]
  },
  {
   "cell_type": "code",
   "execution_count": 3,
   "id": "a3feb9bd",
   "metadata": {},
   "outputs": [],
   "source": [
    "class Carnivorous(Animal):\n",
    "    def __init__(self,nutrition,habitant,position,colour,digestion,hunting):\n",
    "        Animal.__init__(self,nutrition,habitant,position,colour,digestion)\n",
    "        self.hunting=hunting\n",
    "    \n",
    "    def eat(self):\n",
    "        return \" meat \""
   ]
  },
  {
   "cell_type": "code",
   "execution_count": 4,
   "id": "e57ae582",
   "metadata": {},
   "outputs": [],
   "source": [
    "class Omnivorous(Herbivorous,Carnivorous):\n",
    "    def __init__(self,nutrition,habitant,position,colour,digestion,grazing,hunting,teeth):\n",
    "        Herbivorous.__init__(self, nutrition,habitant,position,colour,digestion,grazing)\n",
    "        Carnivorous.__init__(self, nutrition,habitant,position,colour,digestion,hunting)\n",
    "        self.teeth=teeth\n",
    "    \n",
    "    def eat(self):\n",
    "        a = Animal.eat(self)\n",
    "        b = Herbivorous.eat(self)\n",
    "        c = Carnivorous.eat(self)\n",
    "        return a + b +\" and \"+ c"
   ]
  },
  {
   "cell_type": "code",
   "execution_count": 5,
   "id": "44836790",
   "metadata": {},
   "outputs": [
    {
     "data": {
      "text/plain": [
       "' animal eats  grass  and  meat '"
      ]
     },
     "execution_count": 5,
     "metadata": {},
     "output_type": "execute_result"
    }
   ],
   "source": [
    "human=Omnivorous(nutrition='a',habitant='a',position='a',colour='a',digestion='a',grazing='a',hunting='a',teeth='a')\n",
    "human.eat()"
   ]
  },
  {
   "cell_type": "code",
   "execution_count": 6,
   "id": "7253de13",
   "metadata": {},
   "outputs": [
    {
     "data": {
      "text/plain": [
       "'animal is drinking pani and jam-e-shireen'"
      ]
     },
     "execution_count": 6,
     "metadata": {},
     "output_type": "execute_result"
    }
   ],
   "source": [
    "human.drink(\"pani and jam-e-shireen\")"
   ]
  },
  {
   "cell_type": "code",
   "execution_count": 7,
   "id": "5e595472",
   "metadata": {},
   "outputs": [],
   "source": [
    " cow = Herbivorous(nutrition='a',habitant='a',position='a',colour='a',digestion='a',grazing='a')"
   ]
  },
  {
   "cell_type": "code",
   "execution_count": 8,
   "id": "e828a740",
   "metadata": {},
   "outputs": [
    {
     "data": {
      "text/plain": [
       "'animal is drinking water'"
      ]
     },
     "execution_count": 8,
     "metadata": {},
     "output_type": "execute_result"
    }
   ],
   "source": [
    "cow.drink(\"water\")"
   ]
  },
  {
   "cell_type": "code",
   "execution_count": null,
   "id": "e22c53d0",
   "metadata": {},
   "outputs": [],
   "source": []
  }
 ],
 "metadata": {
  "kernelspec": {
   "display_name": "Python 3 (ipykernel)",
   "language": "python",
   "name": "python3"
  },
  "language_info": {
   "codemirror_mode": {
    "name": "ipython",
    "version": 3
   },
   "file_extension": ".py",
   "mimetype": "text/x-python",
   "name": "python",
   "nbconvert_exporter": "python",
   "pygments_lexer": "ipython3",
   "version": "3.9.12"
  }
 },
 "nbformat": 4,
 "nbformat_minor": 5
}

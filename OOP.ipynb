{
 "cells": [
  {
   "cell_type": "markdown",
   "id": "a22eabe4",
   "metadata": {},
   "source": [
    "# Class And Object"
   ]
  },
  {
   "cell_type": "code",
   "execution_count": 1,
   "id": "32633855",
   "metadata": {},
   "outputs": [
    {
     "name": "stdout",
     "output_type": "stream",
     "text": [
      "<__main__.Snake object at 0x00000204C91DCC40>\n"
     ]
    }
   ],
   "source": [
    "class Snake:\n",
    "    pass\n",
    "snake =Snake()\n",
    "print(snake)"
   ]
  },
  {
   "cell_type": "code",
   "execution_count": 2,
   "id": "a8519202",
   "metadata": {},
   "outputs": [
    {
     "name": "stdout",
     "output_type": "stream",
     "text": [
      "Cobra\n",
      "Anaconda\n"
     ]
    }
   ],
   "source": [
    "class Snake:\n",
    "    def __init__(self,name):\n",
    "        self.name =name  \n",
    "    \n",
    "    def change_name(self,new_name):\n",
    "        self.name =new_name\n",
    "        \n",
    "snaku =Snake('Cobra')\n",
    "print(snaku.name)  \n",
    "snaki =Snake('Anaconda')\n",
    "print(snaki.name)\n"
   ]
  },
  {
   "cell_type": "markdown",
   "id": "9347be87",
   "metadata": {},
   "source": [
    "# Data Encapsulation"
   ]
  },
  {
   "cell_type": "code",
   "execution_count": 67,
   "id": "2a602eb7",
   "metadata": {},
   "outputs": [
    {
     "name": "stdout",
     "output_type": "stream",
     "text": [
      "Selling Price: 900\n"
     ]
    }
   ],
   "source": [
    "class Computer:\n",
    "    def __init__(self):\n",
    "        self.__maxprice = 900\n",
    "        \n",
    "    def sell(self):\n",
    "        print(\"Selling Price: {}\".format(self.__maxprice))\n",
    "        \n",
    "    def setMaxPrice(self, price):\n",
    "        self.__maxprice = price\n",
    "        \n",
    "c = Computer()\n",
    "c.sell()"
   ]
  },
  {
   "cell_type": "code",
   "execution_count": 68,
   "id": "8a3cae77",
   "metadata": {},
   "outputs": [
    {
     "name": "stdout",
     "output_type": "stream",
     "text": [
      "Selling Price: 1000\n"
     ]
    }
   ],
   "source": [
    "#change the price\n",
    "c._Computer__maxprice= 1000\n",
    "c.sell()"
   ]
  },
  {
   "cell_type": "markdown",
   "id": "c934a3ba",
   "metadata": {},
   "source": [
    "# Data Hiding"
   ]
  },
  {
   "cell_type": "code",
   "execution_count": 69,
   "id": "a8365e37",
   "metadata": {},
   "outputs": [
    {
     "name": "stdout",
     "output_type": "stream",
     "text": [
      "1\n",
      "2\n"
     ]
    },
    {
     "ename": "AttributeError",
     "evalue": "'Solution' object has no attribute '__privateCount'",
     "output_type": "error",
     "traceback": [
      "\u001b[1;31m---------------------------------------------------------------------------\u001b[0m",
      "\u001b[1;31mAttributeError\u001b[0m                            Traceback (most recent call last)",
      "\u001b[1;32m<ipython-input-69-8427f18a35bf>\u001b[0m in \u001b[0;36m<module>\u001b[1;34m\u001b[0m\n\u001b[0;32m     11\u001b[0m    \u001b[1;31m# Here it will show error because it unable\u001b[0m\u001b[1;33m\u001b[0m\u001b[1;33m\u001b[0m\u001b[1;33m\u001b[0m\u001b[0m\n\u001b[0;32m     12\u001b[0m    \u001b[1;31m# to access private member\u001b[0m\u001b[1;33m\u001b[0m\u001b[1;33m\u001b[0m\u001b[1;33m\u001b[0m\u001b[0m\n\u001b[1;32m---> 13\u001b[1;33m \u001b[0mprint\u001b[0m\u001b[1;33m(\u001b[0m\u001b[0mcount\u001b[0m\u001b[1;33m.\u001b[0m\u001b[0m__privateCount\u001b[0m\u001b[1;33m)\u001b[0m\u001b[1;33m\u001b[0m\u001b[1;33m\u001b[0m\u001b[0m\n\u001b[0m",
      "\u001b[1;31mAttributeError\u001b[0m: 'Solution' object has no attribute '__privateCount'"
     ]
    }
   ],
   "source": [
    "class Solution:\n",
    "    __privateCounter = 0\n",
    "    \n",
    "    def sum(self):\n",
    "        self.__privateCounter += 1\n",
    "        print(self.__privateCounter)\n",
    "        \n",
    "count = Solution()\n",
    "count.sum()\n",
    "count.sum()\n",
    "   # Here it will show error because it unable\n",
    "   # to access private member\n",
    "print(count.__privateCount)"
   ]
  },
  {
   "cell_type": "code",
   "execution_count": 71,
   "id": "37bb09a9",
   "metadata": {},
   "outputs": [
    {
     "name": "stdout",
     "output_type": "stream",
     "text": [
      "1\n",
      "2\n",
      "2\n"
     ]
    }
   ],
   "source": [
    "class Solution:\n",
    "    __privateCounter = 0\n",
    "    \n",
    "    def sum(self):\n",
    "        self.__privateCounter += 1\n",
    "        print(self.__privateCounter)\n",
    "        \n",
    "count = Solution()\n",
    "count.sum()\n",
    "count.sum()\n",
    "# Here we have accessed the private data\n",
    "    # member through class name.\n",
    "print(count._Solution__privateCounter)"
   ]
  },
  {
   "cell_type": "markdown",
   "id": "2a8db36f",
   "metadata": {},
   "source": [
    "# Data Abstraction"
   ]
  },
  {
   "cell_type": "code",
   "execution_count": 72,
   "id": "1f9b97d2",
   "metadata": {},
   "outputs": [],
   "source": [
    "from abc import ABC\n",
    "\n",
    "class llgm(ABC):     # abstract class def calculate_area(self): # abstract method pass\n",
    "    pass\n",
    "\n",
    "class Square(llgm):\n",
    "    length = 5\n",
    "    def Area(self):\n",
    "        return self.length * self.length \n",
    "    \n",
    "class Circle(llgm):\n",
    "    radius =4 \n",
    "    def Area(self):\n",
    "        return 3.14 * self.radius * self.radius"
   ]
  },
  {
   "cell_type": "code",
   "execution_count": 73,
   "id": "9913391f",
   "metadata": {},
   "outputs": [],
   "source": [
    "sq = Square()     # object created for the class 'Square'"
   ]
  },
  {
   "cell_type": "code",
   "execution_count": 75,
   "id": "b0ccd7e6",
   "metadata": {},
   "outputs": [
    {
     "name": "stdout",
     "output_type": "stream",
     "text": [
      "Area of a Square: 25\n"
     ]
    }
   ],
   "source": [
    "print(\"Area of a Square:\",sq.Area())    # call to 'calculate_area' method defined inside the class 'Square'"
   ]
  },
  {
   "cell_type": "code",
   "execution_count": 76,
   "id": "4c60d3db",
   "metadata": {},
   "outputs": [],
   "source": [
    "cir = Circle()   # object created for the class 'Circle'"
   ]
  },
  {
   "cell_type": "code",
   "execution_count": 77,
   "id": "ed6bd17e",
   "metadata": {},
   "outputs": [
    {
     "name": "stdout",
     "output_type": "stream",
     "text": [
      "Area of a circle: 50.24\n"
     ]
    }
   ],
   "source": [
    "print(\"Area of a circle:\",cir.Area())    # call to 'calculate_area' method defined inside the class 'Circle'"
   ]
  },
  {
   "cell_type": "markdown",
   "id": "90b2d201",
   "metadata": {},
   "source": [
    "# Defining Classes"
   ]
  },
  {
   "cell_type": "code",
   "execution_count": 17,
   "id": "ae2ce598",
   "metadata": {},
   "outputs": [],
   "source": [
    "class Date:\n",
    "    pass"
   ]
  },
  {
   "cell_type": "code",
   "execution_count": 18,
   "id": "3d853db6",
   "metadata": {},
   "outputs": [
    {
     "data": {
      "text/plain": [
       "'This is our first implementation of the Date class'"
      ]
     },
     "execution_count": 18,
     "metadata": {},
     "output_type": "execute_result"
    }
   ],
   "source": [
    "class Date:\n",
    "    \"\"\"This is our first implementation of the Date class\"\"\"\n",
    "    pass\n",
    "Date.__doc__"
   ]
  },
  {
   "cell_type": "markdown",
   "id": "84e50655",
   "metadata": {},
   "source": [
    "# Instantiating Classes"
   ]
  },
  {
   "cell_type": "code",
   "execution_count": 20,
   "id": "308a8db3",
   "metadata": {},
   "outputs": [
    {
     "data": {
      "text/plain": [
       "<__main__.Date at 0x27c8e195160>"
      ]
     },
     "execution_count": 20,
     "metadata": {},
     "output_type": "execute_result"
    }
   ],
   "source": [
    "d=Date()\n",
    "d"
   ]
  },
  {
   "cell_type": "code",
   "execution_count": 21,
   "id": "dc760c18",
   "metadata": {},
   "outputs": [
    {
     "data": {
      "text/plain": [
       "__main__.Date"
      ]
     },
     "execution_count": 21,
     "metadata": {},
     "output_type": "execute_result"
    }
   ],
   "source": [
    "type(d)"
   ]
  },
  {
   "cell_type": "code",
   "execution_count": 22,
   "id": "84a67c39",
   "metadata": {},
   "outputs": [
    {
     "data": {
      "text/plain": [
       "'This is our first implementation of the Date class'"
      ]
     },
     "execution_count": 22,
     "metadata": {},
     "output_type": "execute_result"
    }
   ],
   "source": [
    "d.__doc__"
   ]
  },
  {
   "cell_type": "markdown",
   "id": "14030184",
   "metadata": {},
   "source": [
    "# Instance Variables"
   ]
  },
  {
   "cell_type": "code",
   "execution_count": 48,
   "id": "49777ac9",
   "metadata": {},
   "outputs": [],
   "source": [
    "class Date:\n",
    "    def setDate(self,d,m,y):\n",
    "            self.day,self.month,self.year = d,m,y"
   ]
  },
  {
   "cell_type": "code",
   "execution_count": 49,
   "id": "5997a86c",
   "metadata": {},
   "outputs": [],
   "source": [
    "d=Date()"
   ]
  },
  {
   "cell_type": "code",
   "execution_count": 50,
   "id": "8cb34cdf",
   "metadata": {},
   "outputs": [],
   "source": [
    "d.setDate(1,3,1999)"
   ]
  },
  {
   "cell_type": "code",
   "execution_count": 51,
   "id": "a207ae4b",
   "metadata": {},
   "outputs": [
    {
     "data": {
      "text/plain": [
       "<__main__.Date at 0x27c8e25cfd0>"
      ]
     },
     "execution_count": 51,
     "metadata": {},
     "output_type": "execute_result"
    }
   ],
   "source": [
    "d"
   ]
  },
  {
   "cell_type": "code",
   "execution_count": 53,
   "id": "54e44b6d",
   "metadata": {},
   "outputs": [
    {
     "data": {
      "text/plain": [
       "1"
      ]
     },
     "execution_count": 53,
     "metadata": {},
     "output_type": "execute_result"
    }
   ],
   "source": [
    "d.day"
   ]
  },
  {
   "cell_type": "code",
   "execution_count": 54,
   "id": "9f2aa1fe",
   "metadata": {},
   "outputs": [
    {
     "data": {
      "text/plain": [
       "3"
      ]
     },
     "execution_count": 54,
     "metadata": {},
     "output_type": "execute_result"
    }
   ],
   "source": [
    "d.month"
   ]
  },
  {
   "cell_type": "code",
   "execution_count": 55,
   "id": "8cfa9699",
   "metadata": {},
   "outputs": [
    {
     "data": {
      "text/plain": [
       "1999"
      ]
     },
     "execution_count": 55,
     "metadata": {},
     "output_type": "execute_result"
    }
   ],
   "source": [
    "d.year"
   ]
  },
  {
   "cell_type": "markdown",
   "id": "913aed70",
   "metadata": {},
   "source": [
    "# Instance Methods"
   ]
  },
  {
   "cell_type": "code",
   "execution_count": 56,
   "id": "853c4ff8",
   "metadata": {},
   "outputs": [],
   "source": [
    "class Date:\n",
    "    def setDate(self,d,m,y):\n",
    "            self.day,self.month,self.year = d,m,y\n",
    "    def getDay(self):\n",
    "        return self.day        \n",
    "    def getMonth(self):\n",
    "        return self.month\n",
    "    def getYear(self):\n",
    "        return self.year "
   ]
  },
  {
   "cell_type": "code",
   "execution_count": 57,
   "id": "02d20b67",
   "metadata": {},
   "outputs": [],
   "source": [
    "d = Date() \n",
    "d.setDate(1,3,1999)"
   ]
  },
  {
   "cell_type": "code",
   "execution_count": 58,
   "id": "ce8c6c87",
   "metadata": {},
   "outputs": [
    {
     "name": "stdout",
     "output_type": "stream",
     "text": [
      "1-3-1999\n"
     ]
    }
   ],
   "source": [
    "print(\"{}-{}-{}\".format(d.getDay(),d.getMonth(),d.getYear()))"
   ]
  },
  {
   "cell_type": "markdown",
   "id": "66f0fd21",
   "metadata": {},
   "source": [
    "# Class Variables"
   ]
  },
  {
   "cell_type": "code",
   "execution_count": 60,
   "id": "e0e59ca8",
   "metadata": {},
   "outputs": [
    {
     "data": {
      "text/plain": [
       "10"
      ]
     },
     "execution_count": 60,
     "metadata": {},
     "output_type": "execute_result"
    }
   ],
   "source": [
    "class A: \n",
    "    x=10\n",
    "a=A()    \n",
    "a.x    "
   ]
  },
  {
   "cell_type": "markdown",
   "id": "9a2bbef7",
   "metadata": {},
   "source": [
    "# Class Functions"
   ]
  },
  {
   "cell_type": "code",
   "execution_count": 61,
   "id": "2a989557",
   "metadata": {},
   "outputs": [
    {
     "data": {
      "text/plain": [
       "10"
      ]
     },
     "execution_count": 61,
     "metadata": {},
     "output_type": "execute_result"
    }
   ],
   "source": [
    "class A:\n",
    "    x=10\n",
    "    def increment():\n",
    "        A.x=A.x+1\n",
    "A.x         "
   ]
  },
  {
   "cell_type": "code",
   "execution_count": 62,
   "id": "c1bfab51",
   "metadata": {},
   "outputs": [
    {
     "data": {
      "text/plain": [
       "11"
      ]
     },
     "execution_count": 62,
     "metadata": {},
     "output_type": "execute_result"
    }
   ],
   "source": [
    "A.increment()\n",
    "A.x"
   ]
  },
  {
   "cell_type": "code",
   "execution_count": 63,
   "id": "96ab8681",
   "metadata": {},
   "outputs": [
    {
     "data": {
      "text/plain": [
       "11"
      ]
     },
     "execution_count": 63,
     "metadata": {},
     "output_type": "execute_result"
    }
   ],
   "source": [
    "a=A()\n",
    "a.x "
   ]
  },
  {
   "cell_type": "markdown",
   "id": "49423132",
   "metadata": {},
   "source": [
    "# Instance Methods as special Class Function"
   ]
  },
  {
   "cell_type": "code",
   "execution_count": 64,
   "id": "48e4864d",
   "metadata": {},
   "outputs": [
    {
     "name": "stdout",
     "output_type": "stream",
     "text": [
      "Hello\n"
     ]
    }
   ],
   "source": [
    "class A:\n",
    "    def f(self):\n",
    "        print(\"Hello\") \n",
    "\n",
    "a=A()\n",
    "a.f()"
   ]
  },
  {
   "cell_type": "code",
   "execution_count": 65,
   "id": "95c75061",
   "metadata": {},
   "outputs": [
    {
     "name": "stdout",
     "output_type": "stream",
     "text": [
      "Hello\n"
     ]
    }
   ],
   "source": [
    "A.f(a)"
   ]
  },
  {
   "cell_type": "markdown",
   "id": "f41d6cf7",
   "metadata": {},
   "source": [
    "# Polymorphism"
   ]
  },
  {
   "cell_type": "code",
   "execution_count": 1,
   "id": "44c4e432",
   "metadata": {},
   "outputs": [],
   "source": [
    "class Shape:\n",
    "    def __init__(self,color):\n",
    "        self.color = color\n",
    "        \n",
    "    def Method(self):\n",
    "        return \"Draw a shape\""
   ]
  },
  {
   "cell_type": "code",
   "execution_count": 2,
   "id": "a96e8fa8",
   "metadata": {},
   "outputs": [],
   "source": [
    "class Rectangle(Shape):\n",
    "    def __init__(self,color,sides):\n",
    "        super().__init__(color)\n",
    "        self.sides = sides\n",
    "        \n",
    "    # over-ride the function\n",
    "    def Method(self):\n",
    "        return \"Draw a rectangle\""
   ]
  },
  {
   "cell_type": "code",
   "execution_count": 3,
   "id": "91695d96",
   "metadata": {},
   "outputs": [],
   "source": [
    "rec=Rectangle('black',4)"
   ]
  },
  {
   "cell_type": "code",
   "execution_count": 4,
   "id": "a7827f5c",
   "metadata": {},
   "outputs": [
    {
     "data": {
      "text/plain": [
       "'Draw a rectangle'"
      ]
     },
     "execution_count": 4,
     "metadata": {},
     "output_type": "execute_result"
    }
   ],
   "source": [
    "rec.Method()"
   ]
  },
  {
   "cell_type": "code",
   "execution_count": 5,
   "id": "52388942",
   "metadata": {},
   "outputs": [],
   "source": [
    "class Pentagon(Shape):\n",
    "    def __init__(self,color,sides,corners):\n",
    "        self.corners = corners\n",
    "        \n",
    "    # over-ride the method\n",
    "    def Method(self):\n",
    "        return \"Draw a pentagon\""
   ]
  },
  {
   "cell_type": "code",
   "execution_count": 6,
   "id": "d899c28c",
   "metadata": {},
   "outputs": [],
   "source": [
    "pen=Pentagon('pink',5,5)"
   ]
  },
  {
   "cell_type": "code",
   "execution_count": 7,
   "id": "f2c6e66b",
   "metadata": {},
   "outputs": [
    {
     "data": {
      "text/plain": [
       "'Draw a pentagon'"
      ]
     },
     "execution_count": 7,
     "metadata": {},
     "output_type": "execute_result"
    }
   ],
   "source": [
    "pen.Method()"
   ]
  },
  {
   "cell_type": "markdown",
   "id": "f3bf3ae2",
   "metadata": {},
   "source": [
    "# TYPES OF POLYMORPHISM"
   ]
  },
  {
   "cell_type": "markdown",
   "id": "ba72bb22",
   "metadata": {},
   "source": [
    "1. Operator Overloading"
   ]
  },
  {
   "cell_type": "code",
   "execution_count": 3,
   "id": "e36db54a",
   "metadata": {},
   "outputs": [
    {
     "name": "stdout",
     "output_type": "stream",
     "text": [
      "3\n",
      "sidesbites\n",
      "byebye\n"
     ]
    }
   ],
   "source": [
    "a =1+2\n",
    "print(a)\n",
    "\n",
    "z ='sides' + 'bites'\n",
    "print(z)\n",
    "\n",
    "y = 2 * 'bye'\n",
    "print(y)"
   ]
  },
  {
   "cell_type": "markdown",
   "id": "aed553fb",
   "metadata": {},
   "source": [
    "2. Dynamic Polymorphism"
   ]
  },
  {
   "cell_type": "code",
   "execution_count": 4,
   "id": "6946f61e",
   "metadata": {},
   "outputs": [
    {
     "name": "stdout",
     "output_type": "stream",
     "text": [
      "Hi! This animal is called Dog\n",
      "The animal says: Woof Woof\n",
      "Hi! This animal is called Cat\n",
      "The animal says: Meow\n"
     ]
    }
   ],
   "source": [
    "class Animal:\n",
    "    def __init__(self,name):\n",
    "        self.name = name\n",
    "        \n",
    "    def speak(self):\n",
    "        pass\n",
    "    \n",
    "class Dog(Animal):\n",
    "    def __init__(self):\n",
    "        super().__init__(\"Dog\")\n",
    "        \n",
    "    def speak(self):\n",
    "        print('Woof Woof')\n",
    "    \n",
    "class Cat(Animal):\n",
    "    def __init__(self):\n",
    "        super().__init__(\"Cat\")\n",
    "        \n",
    "    def speak(self):\n",
    "        print(\"Meow\")\n",
    "        \n",
    "def introduce(animal):\n",
    "    print(\"Hi! This animal is called\",animal.name)\n",
    "    print(\"The animal says: \",end='')\n",
    "    animal.speak()\n",
    "    \n",
    "animal=Dog()\n",
    "introduce(animal)\n",
    "animal=Cat()\n",
    "introduce(animal)"
   ]
  },
  {
   "cell_type": "markdown",
   "id": "12839885",
   "metadata": {},
   "source": [
    "# Inheritance"
   ]
  },
  {
   "cell_type": "markdown",
   "id": "54ebf09c",
   "metadata": {},
   "source": [
    "# Simple Inheritance:"
   ]
  },
  {
   "cell_type": "code",
   "execution_count": 15,
   "id": "abd6bfa5",
   "metadata": {},
   "outputs": [
    {
     "data": {
      "text/plain": [
       "'animal drank'"
      ]
     },
     "execution_count": 15,
     "metadata": {},
     "output_type": "execute_result"
    }
   ],
   "source": [
    "class Animal:\n",
    "    def __init__(self,drink):\n",
    "        self.drink=drink\n",
    "        \n",
    "    def drink(self):\n",
    "        return 'animal drank'   \n",
    "        \n",
    "class Mammal(Animal):\n",
    "    def __init__(self,drink,speak):\n",
    "        self.speak=speak\n",
    "       \n",
    "    def speak(self):\n",
    "        return 'animal speak'    \n",
    "        \n",
    "m =Mammal('a','a')\n",
    "m.drink()"
   ]
  },
  {
   "cell_type": "markdown",
   "id": "757ffc30",
   "metadata": {},
   "source": [
    "# Function Over-riding"
   ]
  },
  {
   "cell_type": "code",
   "execution_count": 11,
   "id": "d4457759",
   "metadata": {},
   "outputs": [
    {
     "name": "stdout",
     "output_type": "stream",
     "text": [
      "The Sum of two = 92\n"
     ]
    }
   ],
   "source": [
    "class Employee:\n",
    "    def add(self,a,b):\n",
    "        print(\"The Sum of two =\",a+b)\n",
    "        \n",
    "class Department(Employee):\n",
    "    def add(self,a,b):\n",
    "        print(\"The Sum of two =\",a+b)\n",
    "        \n",
    "dep=Department()\n",
    "dep.add(2,90)"
   ]
  },
  {
   "cell_type": "markdown",
   "id": "c848779c",
   "metadata": {},
   "source": [
    "# constructor and destructor in simple inheritance         "
   ]
  },
  {
   "cell_type": "code",
   "execution_count": 13,
   "id": "2f00f12e",
   "metadata": {},
   "outputs": [
    {
     "name": "stdout",
     "output_type": "stream",
     "text": [
      "A constructed\n",
      "B constructed\n",
      "A destroyed\n",
      "B destroyed\n"
     ]
    }
   ],
   "source": [
    "class A:\n",
    "    def __init__(self):\n",
    "        print(\"A constructed\")\n",
    "    def __del__(self):  \n",
    "        print(\"A destroyed\")\n",
    "        \n",
    "class B(A):\n",
    "    def __init__(self):\n",
    "        super().__init__()\n",
    "        print(\"B constructed\") \n",
    "    def __del__(self):\n",
    "        super().__del__()\n",
    "        print(\"B destroyed\")\n",
    "        \n",
    "b=B() \n",
    "del(b)      "
   ]
  },
  {
   "cell_type": "markdown",
   "id": "8e70e2bf",
   "metadata": {},
   "source": [
    "# Multi-Level Inheritance"
   ]
  },
  {
   "cell_type": "code",
   "execution_count": 6,
   "id": "9103fb8f",
   "metadata": {},
   "outputs": [],
   "source": [
    "import time"
   ]
  },
  {
   "cell_type": "code",
   "execution_count": 7,
   "id": "1654bc82",
   "metadata": {},
   "outputs": [],
   "source": [
    "class Cake():\n",
    "    def __init__ (self,flour,egg,sugar,milk,bakingsoda):\n",
    "        self.flour=flour\n",
    "        self.egg=egg\n",
    "        self.sugar=sugar\n",
    "        self.milk=milk\n",
    "        self.bakingsoda=bakingsoda\n",
    "        self.temperature=25\n",
    "        self.is_baked=False\n",
    "        self.egg_beaten=False\n",
    "        self.mix=False\n",
    "        \n",
    "    def egg_beated(self):\n",
    "        if self.egg_beaten==False:\n",
    "            for i in range(5):\n",
    "                print(\"beating\")\n",
    "                time.sleep(1)\n",
    "            self.egg_beaten=True\n",
    "            print(\"Egg are beaten\")\n",
    "        else:\n",
    "            print(\"Egg are already beaten\")\n",
    "            \n",
    "    def mixed(self):\n",
    "        if self.mix==False and self.egg_beaten==True:\n",
    "            self.mix=True\n",
    "            print(\"Ingredients are mixed\")\n",
    "        else:\n",
    "            print(\"Already mixed\")\n",
    "        \n",
    "    def is_bake(self):\n",
    "        if self.mix==True:\n",
    "            while self.temperature<250:\n",
    "                self.temperature=self.temperature + 25\n",
    "                print(self.temperature)\n",
    "                time.sleep(1)\n",
    "            print(\"Cake is baked\",self.temperature)"
   ]
  },
  {
   "cell_type": "code",
   "execution_count": 8,
   "id": "b18695c2",
   "metadata": {},
   "outputs": [],
   "source": [
    "kake=Cake('1 bowl',6,'1 bowl','2 cups','1 tsp')"
   ]
  },
  {
   "cell_type": "code",
   "execution_count": 9,
   "id": "ac461256",
   "metadata": {},
   "outputs": [
    {
     "name": "stdout",
     "output_type": "stream",
     "text": [
      "beating\n",
      "beating\n",
      "beating\n",
      "beating\n",
      "beating\n",
      "Egg are beaten\n"
     ]
    }
   ],
   "source": [
    "kake.egg_beated()"
   ]
  },
  {
   "cell_type": "code",
   "execution_count": 10,
   "id": "980d41cb",
   "metadata": {},
   "outputs": [
    {
     "name": "stdout",
     "output_type": "stream",
     "text": [
      "Ingredients are mixed\n"
     ]
    }
   ],
   "source": [
    "kake.mixed()"
   ]
  },
  {
   "cell_type": "code",
   "execution_count": 11,
   "id": "bc2f05cd",
   "metadata": {},
   "outputs": [
    {
     "name": "stdout",
     "output_type": "stream",
     "text": [
      "50\n",
      "75\n",
      "100\n",
      "125\n",
      "150\n",
      "175\n",
      "200\n",
      "225\n",
      "250\n",
      "Cake is baked 250\n"
     ]
    }
   ],
   "source": [
    "kake.is_bake()"
   ]
  },
  {
   "cell_type": "code",
   "execution_count": 12,
   "id": "4e3ad2c7",
   "metadata": {},
   "outputs": [],
   "source": [
    "class CreamCake(Cake):\n",
    "    def __init__ (self,flour,egg,sugar,milk,bakingsoda):\n",
    "        super().__init__(flour,egg,sugar,milk,bakingsoda)\n",
    "        self.cream=False\n",
    "        self.cream_temp=25\n",
    "        \n",
    "    def add_cream(self):\n",
    "        if self.cream==False:\n",
    "            for i in range(5):\n",
    "                print(\"adding\")\n",
    "                time.sleep(1)\n",
    "            print(\"Cream is added\")\n",
    "            self.cream=True\n",
    "        else:\n",
    "            print(\"Cream is already added\")\n",
    "            \n",
    "    def refrigrate(self):\n",
    "        if self.cream==True:\n",
    "            while self.cream_temp>0:\n",
    "                self.cream_temp=self.cream_temp - 5\n",
    "                print(self.cream_temp)\n",
    "                time.sleep(1)\n",
    "            print(\"Cream is whipped at\",self.cream_temp)    "
   ]
  },
  {
   "cell_type": "code",
   "execution_count": 13,
   "id": "c5cb853b",
   "metadata": {},
   "outputs": [],
   "source": [
    "kake_1=CreamCake('2 bowl',4,'1.5 cups','2 tsp','1 bowl')"
   ]
  },
  {
   "cell_type": "code",
   "execution_count": 14,
   "id": "576cbf42",
   "metadata": {},
   "outputs": [
    {
     "name": "stdout",
     "output_type": "stream",
     "text": [
      "adding\n",
      "adding\n",
      "adding\n",
      "adding\n",
      "adding\n",
      "Cream is added\n"
     ]
    }
   ],
   "source": [
    "kake_1.add_cream()"
   ]
  },
  {
   "cell_type": "code",
   "execution_count": 15,
   "id": "a0e5dae7",
   "metadata": {},
   "outputs": [
    {
     "name": "stdout",
     "output_type": "stream",
     "text": [
      "20\n",
      "15\n",
      "10\n",
      "5\n",
      "0\n",
      "Cream is whipped at 0\n"
     ]
    }
   ],
   "source": [
    "kake_1.refrigrate()"
   ]
  },
  {
   "cell_type": "code",
   "execution_count": 16,
   "id": "6801a06f",
   "metadata": {},
   "outputs": [],
   "source": [
    "class CherryCreamCake(CreamCake):\n",
    "    def __init__(self,flour,egg,sugar,milk,bakingsoda):\n",
    "        super().__init__(flour,egg,sugar,milk,bakingsoda)\n",
    "        self.cherry=0\n",
    "        \n",
    "    def add_cherry(self):\n",
    "        if self.cherry==0:\n",
    "            while self.cherry<10:\n",
    "                self.cherry=self.cherry + 2\n",
    "                print(self.cherry)\n",
    "                time.sleep(1)\n",
    "            print(\"Cherry is added\")\n",
    "        else:\n",
    "            print(\"Already added\")"
   ]
  },
  {
   "cell_type": "code",
   "execution_count": 17,
   "id": "7cacbc72",
   "metadata": {},
   "outputs": [],
   "source": [
    "kake_2=CherryCreamCake('3 bowl',6,'1 bowl','2 cups','2.5 tsp')"
   ]
  },
  {
   "cell_type": "code",
   "execution_count": 18,
   "id": "f7cc50eb",
   "metadata": {},
   "outputs": [
    {
     "name": "stdout",
     "output_type": "stream",
     "text": [
      "2\n",
      "4\n",
      "6\n",
      "8\n",
      "10\n",
      "Cherry is added\n"
     ]
    }
   ],
   "source": [
    "kake_2.add_cherry()"
   ]
  },
  {
   "cell_type": "markdown",
   "id": "bf3ab9c8",
   "metadata": {},
   "source": [
    "# Multiple Inheritance"
   ]
  },
  {
   "cell_type": "code",
   "execution_count": 19,
   "id": "b4320b0f",
   "metadata": {},
   "outputs": [],
   "source": [
    "class Animal():\n",
    "    def __init__(self,nutrition,habitant,position):\n",
    "        self.nutrition=nutrition\n",
    "        self.habitant=habitant\n",
    "        self.position=position\n",
    "        \n",
    "    def eat(self):\n",
    "        return \" animal eats \"   "
   ]
  },
  {
   "cell_type": "code",
   "execution_count": 20,
   "id": "f357dff1",
   "metadata": {},
   "outputs": [],
   "source": [
    "class Herbivorous(Animal):\n",
    "    def __init__(self,nutrition,habitant,position,grazing):\n",
    "        Animal.__init__(self,nutrition,habitant,position)\n",
    "        self.grazing=grazing\n",
    "        \n",
    "    def eat(self):\n",
    "        return \" grass \""
   ]
  },
  {
   "cell_type": "code",
   "execution_count": 21,
   "id": "4ab60dd3",
   "metadata": {},
   "outputs": [],
   "source": [
    "class Carnivorous(Animal):\n",
    "    def __init__(self,nutrition,habitant,position,hunting):\n",
    "        Animal.__init__(self,nutrition,habitant,position)\n",
    "        self.hunting=hunting\n",
    "        \n",
    "    def eat(self):\n",
    "        return \" meat \"    "
   ]
  },
  {
   "cell_type": "code",
   "execution_count": 22,
   "id": "4abd5100",
   "metadata": {},
   "outputs": [],
   "source": [
    "class Omnivorous(Herbivorous,Carnivorous):\n",
    "    def __init__(self,nutrition,habitant,position,grazing,hunting,teeth):\n",
    "        Herbivorous.__init__(self,nutrition,habitant,position,grazing)\n",
    "        Carnivorous.__init__(self,nutrition,habitant,position,hunting)\n",
    "        self.teeth=teeth\n",
    "        \n",
    "    def eat(self):\n",
    "        a = Animal.eat(self)\n",
    "        b = Herbivorous.eat(self)\n",
    "        c = Carnivorous.eat(self)\n",
    "        return a + b +\" and \"+ c    "
   ]
  },
  {
   "cell_type": "code",
   "execution_count": 23,
   "id": "c33ce4aa",
   "metadata": {},
   "outputs": [],
   "source": [
    "human=Omnivorous(nutrition='a',habitant='a',position='a',grazing='a',hunting='a',teeth='a')"
   ]
  },
  {
   "cell_type": "code",
   "execution_count": 24,
   "id": "fe7b6129",
   "metadata": {},
   "outputs": [
    {
     "data": {
      "text/plain": [
       "' animal eats  grass  and  meat '"
      ]
     },
     "execution_count": 24,
     "metadata": {},
     "output_type": "execute_result"
    }
   ],
   "source": [
    "human.eat()"
   ]
  },
  {
   "cell_type": "markdown",
   "id": "0be15191",
   "metadata": {},
   "source": [
    "# Function Over-riding in Multiple Inheritance"
   ]
  },
  {
   "cell_type": "code",
   "execution_count": 15,
   "id": "ee069d7c",
   "metadata": {},
   "outputs": [
    {
     "name": "stdout",
     "output_type": "stream",
     "text": [
      "A\n",
      "C\n"
     ]
    }
   ],
   "source": [
    "class A:\n",
    "    def f(self):\n",
    "        print(\"A\")\n",
    "class B:\n",
    "    def f(self):\n",
    "        print(\"B\") \n",
    "class C(A,B):\n",
    "    def f(self):\n",
    "        super().f() \n",
    "        print(\"C\")    \n",
    "c=C()\n",
    "c.f()"
   ]
  },
  {
   "cell_type": "markdown",
   "id": "377c8f1d",
   "metadata": {},
   "source": [
    "# constructor and destructor in multiple inheritance"
   ]
  },
  {
   "cell_type": "code",
   "execution_count": 16,
   "id": "7ce6596f",
   "metadata": {},
   "outputs": [
    {
     "name": "stdout",
     "output_type": "stream",
     "text": [
      "A constructed\n",
      "B constructed\n",
      "C constructed\n",
      "C destroyed\n",
      "B destroyed\n",
      "A destroyed\n"
     ]
    }
   ],
   "source": [
    "class A:\n",
    "    def __init__(self):\n",
    "        print(\"A constructed\") \n",
    "    def __del__(self): \n",
    "        print(\"A destroyed\") \n",
    "\n",
    "class B: \n",
    "    def __init__(self): \n",
    "        print(\"B constructed\") \n",
    "    def __del__(self): \n",
    "        print(\"B destroyed\") \n",
    "\n",
    "class C(A,B): \n",
    "    def __init__(self):\n",
    "        A.__init__(self) \n",
    "        B.__init__(self) \n",
    "        print(\"C constructed\") \n",
    "    def __del__(self): \n",
    "        print(\"C destroyed\") \n",
    "        B.__del__(self) \n",
    "        A.__del__(self) \n",
    "c=C() \n",
    "del(c)"
   ]
  },
  {
   "cell_type": "markdown",
   "id": "1a4575b8",
   "metadata": {},
   "source": [
    "# Hierarchical Inheritance"
   ]
  },
  {
   "cell_type": "code",
   "execution_count": 17,
   "id": "b34c6cab",
   "metadata": {},
   "outputs": [],
   "source": [
    "class Animal():\n",
    "    def __init__(self,nutrition,habitant,position,colour,digestion):\n",
    "        self.nutrition=nutrition\n",
    "        self.habitant=habitant\n",
    "        self.position=position\n",
    "        self.colour=colour\n",
    "        self.digestion=digestion\n",
    "        \n",
    "    def sleep(self):\n",
    "        if self.position !=0:\n",
    "            self.position=0\n",
    "            \n",
    "    def awake(self):\n",
    "        if self.position==0:\n",
    "            self.position=1"
   ]
  },
  {
   "cell_type": "code",
   "execution_count": 18,
   "id": "a190f37f",
   "metadata": {},
   "outputs": [],
   "source": [
    "class Herbivorous(Animal):\n",
    "    def __init__(self,nutrition,habitant,position,colour,digestion,grazing):\n",
    "        super().__init__(nutrition,habitant,position,colour,digestion)\n",
    "        self.grazing=grazing\n",
    "        \n",
    "    def consumed_food(self):\n",
    "        if self.digestion !=True:\n",
    "            self.digestion=True"
   ]
  },
  {
   "cell_type": "code",
   "execution_count": 19,
   "id": "f68a7d83",
   "metadata": {},
   "outputs": [],
   "source": [
    "class Cow(Herbivorous):\n",
    "    def __init__(self,nutrition,habitant,position,colour,digestion,grazing,milk_capacity,strong_sense,horns):\n",
    "        super().__init__(nutrition,habitant,position,colour,digestion,grazing)\n",
    "        self.milk_capacity=milk_capacity\n",
    "        self.strong_sense=strong_sense\n",
    "        self.horns=horns\n",
    "        \n",
    "    def walking(self):\n",
    "        if self.position !=1:\n",
    "            self.position=1\n",
    "            \n",
    "    def eating(self):\n",
    "        if self.grazing !=True:\n",
    "            self.grazing=True"
   ]
  },
  {
   "cell_type": "code",
   "execution_count": 20,
   "id": "dc9b5995",
   "metadata": {},
   "outputs": [],
   "source": [
    "c1=Cow('grass','farms',0,'brown','eating',False,'great capacity',False,'2 horns')"
   ]
  },
  {
   "cell_type": "code",
   "execution_count": 21,
   "id": "45be2c64",
   "metadata": {},
   "outputs": [],
   "source": [
    "c1.eating()"
   ]
  },
  {
   "cell_type": "code",
   "execution_count": 22,
   "id": "a9678377",
   "metadata": {},
   "outputs": [
    {
     "data": {
      "text/plain": [
       "True"
      ]
     },
     "execution_count": 22,
     "metadata": {},
     "output_type": "execute_result"
    }
   ],
   "source": [
    "c1.grazing"
   ]
  },
  {
   "cell_type": "code",
   "execution_count": 23,
   "id": "7d92a8b4",
   "metadata": {},
   "outputs": [],
   "source": [
    "class Carnivorous(Animal):\n",
    "    def __init__(self,nutrition,habitant,position,colour,digestion,hunting,vision):\n",
    "        super().__init__(nutrition,habitant,position,colour,digestion)\n",
    "        self.hunting=hunting\n",
    "        self.vision=vision\n",
    "        \n",
    "    def predation(self):\n",
    "        if self.hunting!=True:\n",
    "            self.hunting=True\n",
    "            \n",
    "    def night_vision(self):\n",
    "        if self.vision!='glowing red':\n",
    "            self.vision='glowing red'"
   ]
  },
  {
   "cell_type": "code",
   "execution_count": 24,
   "id": "7814c676",
   "metadata": {},
   "outputs": [],
   "source": [
    "class Shark(Carnivorous):\n",
    "    def __init__(self,nutrition,habitant,position,colour,digestion,hunting,vision,gills,fins_tail):\n",
    "        super().__init__(nutrition,habitant,position,colour,digestion,hunting,vision)\n",
    "        self.gills=gills\n",
    "        self.fins_tail=fins_tail\n",
    "        \n",
    "    def swim(self):\n",
    "        if self.fins_tail !='moving':\n",
    "            self.fins_tail='moving'\n",
    "            \n",
    "    def breathing(self):\n",
    "        if self.gills !=True:\n",
    "            self.gills=True"
   ]
  },
  {
   "cell_type": "code",
   "execution_count": 25,
   "id": "f7cd6f61",
   "metadata": {},
   "outputs": [],
   "source": [
    "sharc=Shark('small fish','ocean',0,'blue and white','no excretion',False,'not glowing',False,'not moving')"
   ]
  },
  {
   "cell_type": "code",
   "execution_count": 26,
   "id": "a3e356bb",
   "metadata": {},
   "outputs": [],
   "source": [
    "sharc.swim()"
   ]
  },
  {
   "cell_type": "code",
   "execution_count": 27,
   "id": "6e58cf78",
   "metadata": {},
   "outputs": [
    {
     "data": {
      "text/plain": [
       "'moving'"
      ]
     },
     "execution_count": 27,
     "metadata": {},
     "output_type": "execute_result"
    }
   ],
   "source": [
    "sharc.fins_tail"
   ]
  },
  {
   "cell_type": "markdown",
   "id": "ab3815b2",
   "metadata": {},
   "source": [
    "# Access Specifers"
   ]
  },
  {
   "cell_type": "code",
   "execution_count": 1,
   "id": "b734a805",
   "metadata": {},
   "outputs": [
    {
     "name": "stdout",
     "output_type": "stream",
     "text": [
      "good\n",
      "dollar\n"
     ]
    }
   ],
   "source": [
    "class Pen:\n",
    "    def __writes(self):\n",
    "        print(\"writing\")\n",
    "    def material(self):\n",
    "        print(\"material\")\n",
    "    def _brand(self):\n",
    "        print(\"dollar\")\n",
    "        \n",
    "class Ink(Pen):\n",
    "    def __color(self):\n",
    "        print(\"black\")\n",
    "    def quality(self):\n",
    "        print(\"good\")\n",
    "    def _brand(self):\n",
    "        print(\"dollar\")\n",
    "        \n",
    "b=Ink()\n",
    "b.quality()\n",
    "b._brand()"
   ]
  },
  {
   "cell_type": "code",
   "execution_count": 7,
   "id": "b0aa1f23",
   "metadata": {},
   "outputs": [
    {
     "ename": "AttributeError",
     "evalue": "'Ink' object has no attribute '__color'",
     "output_type": "error",
     "traceback": [
      "\u001b[1;31m---------------------------------------------------------------------------\u001b[0m",
      "\u001b[1;31mAttributeError\u001b[0m                            Traceback (most recent call last)",
      "\u001b[1;32m<ipython-input-7-11ae116a8abf>\u001b[0m in \u001b[0;36m<module>\u001b[1;34m\u001b[0m\n\u001b[1;32m----> 1\u001b[1;33m \u001b[0mb\u001b[0m\u001b[1;33m.\u001b[0m\u001b[0m__color\u001b[0m\u001b[1;33m(\u001b[0m\u001b[1;33m)\u001b[0m\u001b[1;33m\u001b[0m\u001b[1;33m\u001b[0m\u001b[0m\n\u001b[0m",
      "\u001b[1;31mAttributeError\u001b[0m: 'Ink' object has no attribute '__color'"
     ]
    }
   ],
   "source": [
    "b.__color()"
   ]
  },
  {
   "cell_type": "code",
   "execution_count": 9,
   "id": "c61b84e7",
   "metadata": {},
   "outputs": [
    {
     "name": "stdout",
     "output_type": "stream",
     "text": [
      "black\n"
     ]
    }
   ],
   "source": [
    "b._Ink__color()       ### using name mangling"
   ]
  },
  {
   "cell_type": "markdown",
   "id": "45f30dd1",
   "metadata": {},
   "source": [
    "# Constructor "
   ]
  },
  {
   "cell_type": "code",
   "execution_count": 1,
   "id": "44dac772",
   "metadata": {},
   "outputs": [
    {
     "name": "stdout",
     "output_type": "stream",
     "text": [
      "Constructor called\n"
     ]
    }
   ],
   "source": [
    "class A:\n",
    "    def __init__(self):\n",
    "        print(\"Constructor called\")\n",
    "\n",
    "b=A()        "
   ]
  },
  {
   "cell_type": "markdown",
   "id": "c3d15fee",
   "metadata": {},
   "source": [
    "# Destructor"
   ]
  },
  {
   "cell_type": "code",
   "execution_count": 5,
   "id": "d4815b45",
   "metadata": {},
   "outputs": [
    {
     "name": "stdout",
     "output_type": "stream",
     "text": [
      "Destructor called\n",
      "Destructor called\n"
     ]
    }
   ],
   "source": [
    "class B:\n",
    "    def __del__(self):\n",
    "        print(\"Destructor called\")\n",
    "        \n",
    "a=B()\n",
    "del a"
   ]
  },
  {
   "cell_type": "markdown",
   "id": "b276cfff",
   "metadata": {},
   "source": [
    "#  Attribute Handling"
   ]
  },
  {
   "cell_type": "markdown",
   "id": "ecd127c9",
   "metadata": {},
   "source": [
    "The hasattr() Function"
   ]
  },
  {
   "cell_type": "code",
   "execution_count": 78,
   "id": "2a51d3ad",
   "metadata": {},
   "outputs": [
    {
     "data": {
      "text/plain": [
       "True"
      ]
     },
     "execution_count": 78,
     "metadata": {},
     "output_type": "execute_result"
    }
   ],
   "source": [
    "class A: \n",
    "    def __init__(self): \n",
    "        self.x=0 \n",
    "\n",
    "a=A() \n",
    "hasattr(a,'x') "
   ]
  },
  {
   "cell_type": "code",
   "execution_count": 79,
   "id": "73ab4e7b",
   "metadata": {},
   "outputs": [
    {
     "data": {
      "text/plain": [
       "False"
      ]
     },
     "execution_count": 79,
     "metadata": {},
     "output_type": "execute_result"
    }
   ],
   "source": [
    "hasattr(a,'y') "
   ]
  },
  {
   "cell_type": "markdown",
   "id": "42b7be8c",
   "metadata": {},
   "source": [
    "The getattr() Function"
   ]
  },
  {
   "cell_type": "code",
   "execution_count": 80,
   "id": "17809f20",
   "metadata": {},
   "outputs": [
    {
     "data": {
      "text/plain": [
       "0"
      ]
     },
     "execution_count": 80,
     "metadata": {},
     "output_type": "execute_result"
    }
   ],
   "source": [
    "class A:\n",
    "    def __init__(self):\n",
    "        self.x=0 \n",
    "        \n",
    "a=A() \n",
    "getattr(a,'x',2) "
   ]
  },
  {
   "cell_type": "code",
   "execution_count": 81,
   "id": "9685d600",
   "metadata": {},
   "outputs": [
    {
     "data": {
      "text/plain": [
       "2"
      ]
     },
     "execution_count": 81,
     "metadata": {},
     "output_type": "execute_result"
    }
   ],
   "source": [
    "getattr(a,'y',2) "
   ]
  },
  {
   "cell_type": "code",
   "execution_count": 82,
   "id": "3b64d175",
   "metadata": {},
   "outputs": [
    {
     "ename": "AttributeError",
     "evalue": "'A' object has no attribute 'y'",
     "output_type": "error",
     "traceback": [
      "\u001b[1;31m---------------------------------------------------------------------------\u001b[0m",
      "\u001b[1;31mAttributeError\u001b[0m                            Traceback (most recent call last)",
      "\u001b[1;32m<ipython-input-82-a79d56cfb3a3>\u001b[0m in \u001b[0;36m<module>\u001b[1;34m\u001b[0m\n\u001b[1;32m----> 1\u001b[1;33m \u001b[0mgetattr\u001b[0m\u001b[1;33m(\u001b[0m\u001b[0ma\u001b[0m\u001b[1;33m,\u001b[0m\u001b[1;34m'y'\u001b[0m\u001b[1;33m)\u001b[0m\u001b[1;33m\u001b[0m\u001b[1;33m\u001b[0m\u001b[0m\n\u001b[0m",
      "\u001b[1;31mAttributeError\u001b[0m: 'A' object has no attribute 'y'"
     ]
    }
   ],
   "source": [
    "getattr(a,'y')"
   ]
  },
  {
   "cell_type": "markdown",
   "id": "9f7023cd",
   "metadata": {},
   "source": [
    " The setattr() Function"
   ]
  },
  {
   "cell_type": "code",
   "execution_count": 83,
   "id": "3e3d3699",
   "metadata": {},
   "outputs": [
    {
     "data": {
      "text/plain": [
       "2"
      ]
     },
     "execution_count": 83,
     "metadata": {},
     "output_type": "execute_result"
    }
   ],
   "source": [
    "class A:\n",
    "    def __init__(self):\n",
    "        self.x=0 \n",
    "\n",
    "a=A() \n",
    "setattr(a,'x',2) \n",
    "setattr(a,'y',3) \n",
    "a.x "
   ]
  },
  {
   "cell_type": "code",
   "execution_count": 84,
   "id": "b5bfbd26",
   "metadata": {},
   "outputs": [
    {
     "data": {
      "text/plain": [
       "3"
      ]
     },
     "execution_count": 84,
     "metadata": {},
     "output_type": "execute_result"
    }
   ],
   "source": [
    "a.y "
   ]
  },
  {
   "cell_type": "markdown",
   "id": "163cd7af",
   "metadata": {},
   "source": [
    "The delattr() Function"
   ]
  },
  {
   "cell_type": "code",
   "execution_count": 85,
   "id": "9035349e",
   "metadata": {},
   "outputs": [
    {
     "data": {
      "text/plain": [
       "0"
      ]
     },
     "execution_count": 85,
     "metadata": {},
     "output_type": "execute_result"
    }
   ],
   "source": [
    "class A:\n",
    "    def __init__(self):\n",
    "        self.x=0 \n",
    "\n",
    "a=A() \n",
    "a.x "
   ]
  },
  {
   "cell_type": "code",
   "execution_count": 86,
   "id": "983deaba",
   "metadata": {},
   "outputs": [
    {
     "ename": "AttributeError",
     "evalue": "'A' object has no attribute 'x'",
     "output_type": "error",
     "traceback": [
      "\u001b[1;31m---------------------------------------------------------------------------\u001b[0m",
      "\u001b[1;31mAttributeError\u001b[0m                            Traceback (most recent call last)",
      "\u001b[1;32m<ipython-input-86-a8c2e0e685fe>\u001b[0m in \u001b[0;36m<module>\u001b[1;34m\u001b[0m\n\u001b[0;32m      1\u001b[0m \u001b[0mdelattr\u001b[0m\u001b[1;33m(\u001b[0m\u001b[0ma\u001b[0m\u001b[1;33m,\u001b[0m\u001b[1;34m'x'\u001b[0m\u001b[1;33m)\u001b[0m\u001b[1;33m\u001b[0m\u001b[1;33m\u001b[0m\u001b[0m\n\u001b[1;32m----> 2\u001b[1;33m \u001b[0ma\u001b[0m\u001b[1;33m.\u001b[0m\u001b[0mx\u001b[0m\u001b[1;33m\u001b[0m\u001b[1;33m\u001b[0m\u001b[0m\n\u001b[0m",
      "\u001b[1;31mAttributeError\u001b[0m: 'A' object has no attribute 'x'"
     ]
    }
   ],
   "source": [
    "delattr(a,'x')\n",
    "a.x"
   ]
  },
  {
   "cell_type": "code",
   "execution_count": 87,
   "id": "75560db0",
   "metadata": {},
   "outputs": [
    {
     "ename": "AttributeError",
     "evalue": "y",
     "output_type": "error",
     "traceback": [
      "\u001b[1;31m---------------------------------------------------------------------------\u001b[0m",
      "\u001b[1;31mAttributeError\u001b[0m                            Traceback (most recent call last)",
      "\u001b[1;32m<ipython-input-87-6138a5d4a3f9>\u001b[0m in \u001b[0;36m<module>\u001b[1;34m\u001b[0m\n\u001b[1;32m----> 1\u001b[1;33m \u001b[0mdelattr\u001b[0m\u001b[1;33m(\u001b[0m\u001b[0ma\u001b[0m\u001b[1;33m,\u001b[0m\u001b[1;34m'y'\u001b[0m\u001b[1;33m)\u001b[0m\u001b[1;33m\u001b[0m\u001b[1;33m\u001b[0m\u001b[0m\n\u001b[0m",
      "\u001b[1;31mAttributeError\u001b[0m: y"
     ]
    }
   ],
   "source": [
    "delattr(a,'y') "
   ]
  },
  {
   "cell_type": "markdown",
   "id": "7e13aebb",
   "metadata": {},
   "source": [
    "Standard Attributes"
   ]
  },
  {
   "cell_type": "code",
   "execution_count": 88,
   "id": "db6946b9",
   "metadata": {},
   "outputs": [
    {
     "name": "stdout",
     "output_type": "stream",
     "text": [
      "__name__: C\n",
      "__doc__: A class to demonstrate standard attributes\n",
      "__bases__: (<class '__main__.A'>, <class '__main__.B'>)\n",
      "__module__: __main__\n",
      "__dict__: {'__module__': '__main__', '__doc__': 'A class to demonstrate standard attributes', 'x': 10, '__init__': <function C.__init__ at 0x0000027C8DF80940>, 'f': <function C.f at 0x0000027C8DF13790>}\n"
     ]
    }
   ],
   "source": [
    "class A:\n",
    "    pass \n",
    "\n",
    "class B:\n",
    "    pass \n",
    "\n",
    "class C(A,B):\n",
    "    \"A class to demonstrate standard attributes\" \n",
    "    x=10 \n",
    "\n",
    "    def __init__(self):\n",
    "        pass \n",
    "    def f(self):\n",
    "        pass \n",
    "\n",
    "print(\"__name__:\",C.__name__) \n",
    "print(\"__doc__:\",C.__doc__) \n",
    "print(\"__bases__:\",C.__bases__) \n",
    "print(\"__module__:\",C.__module__) \n",
    "print(\"__dict__:\",C.__dict__)"
   ]
  },
  {
   "cell_type": "markdown",
   "id": "64729261",
   "metadata": {},
   "source": [
    "# Magic Function"
   ]
  },
  {
   "cell_type": "code",
   "execution_count": 26,
   "id": "3e7a4dc3",
   "metadata": {},
   "outputs": [
    {
     "name": "stdout",
     "output_type": "stream",
     "text": [
      "4\n"
     ]
    }
   ],
   "source": [
    "class A:\n",
    "    def __init__(self,my_list):\n",
    "        self.my_list=my_list\n",
    "        \n",
    "    def __len__(self):   # magic function of len    \n",
    "        return len(self.my_list)\n",
    "    \n",
    "obj =A([1,2,3,4])\n",
    "x =len(obj)\n",
    "print(x)"
   ]
  },
  {
   "cell_type": "markdown",
   "id": "de4b2589",
   "metadata": {},
   "source": [
    "constructor and destructor in magic function"
   ]
  },
  {
   "cell_type": "code",
   "execution_count": 89,
   "id": "e7a57e73",
   "metadata": {},
   "outputs": [
    {
     "name": "stdout",
     "output_type": "stream",
     "text": [
      "Created\n",
      "Destroyed\n"
     ]
    }
   ],
   "source": [
    "class A:\n",
    "    def __init__(self):\n",
    "        print(\"Created\")\n",
    "    def __del__(self):\n",
    "        print(\"Destroyed\")\n",
    "\n",
    "a=A()\n",
    "del(a)"
   ]
  },
  {
   "cell_type": "markdown",
   "id": "d4fe4b84",
   "metadata": {},
   "source": [
    "Stringification"
   ]
  },
  {
   "cell_type": "code",
   "execution_count": 90,
   "id": "aaf7b5c1",
   "metadata": {},
   "outputs": [
    {
     "data": {
      "text/plain": [
       "'<__main__.A object at 0x0000027C8E184100>'"
      ]
     },
     "execution_count": 90,
     "metadata": {},
     "output_type": "execute_result"
    }
   ],
   "source": [
    "class A:\n",
    "    pass\n",
    "a=A()\n",
    "str(a)"
   ]
  },
  {
   "cell_type": "code",
   "execution_count": 91,
   "id": "ed80a580",
   "metadata": {},
   "outputs": [
    {
     "data": {
      "text/plain": [
       "'Hi'"
      ]
     },
     "execution_count": 91,
     "metadata": {},
     "output_type": "execute_result"
    }
   ],
   "source": [
    "class A:\n",
    "    def __str__(self):\n",
    "        return \"Hi\"\n",
    "a=A()\n",
    "str(a)"
   ]
  },
  {
   "cell_type": "markdown",
   "id": "0d657da2",
   "metadata": {},
   "source": [
    "# Empty Classes"
   ]
  },
  {
   "cell_type": "code",
   "execution_count": 2,
   "id": "64d1230c",
   "metadata": {},
   "outputs": [],
   "source": [
    "class Cat:      ### In python, u can create empty class using pass command after define of class object\n",
    "    pass         ## bcz one line of code is complusory for creating class"
   ]
  },
  {
   "cell_type": "code",
   "execution_count": 3,
   "id": "79f6b646",
   "metadata": {},
   "outputs": [],
   "source": [
    " ### empty class as place holder \n",
    "class Cat:\n",
    "    def __init__(self,color,sound):\n",
    "        self.color = color\n",
    "        self.sound = sound\n",
    "        \n",
    "    def speak(self):\n",
    "        return \"Cat say Meow\"\n",
    "    pass"
   ]
  }
 ],
 "metadata": {
  "kernelspec": {
   "display_name": "Python 3 (ipykernel)",
   "language": "python",
   "name": "python3"
  },
  "language_info": {
   "codemirror_mode": {
    "name": "ipython",
    "version": 3
   },
   "file_extension": ".py",
   "mimetype": "text/x-python",
   "name": "python",
   "nbconvert_exporter": "python",
   "pygments_lexer": "ipython3",
   "version": "3.9.12"
  }
 },
 "nbformat": 4,
 "nbformat_minor": 5
}
